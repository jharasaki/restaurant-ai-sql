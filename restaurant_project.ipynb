{
  "nbformat": 4,
  "nbformat_minor": 0,
  "metadata": {
    "colab": {
      "provenance": []
    },
    "kernelspec": {
      "name": "python3",
      "display_name": "Python 3"
    },
    "language_info": {
      "name": "python"
    }
  },
  "cells": [
    {
      "cell_type": "code",
      "execution_count": 3,
      "metadata": {
        "colab": {
          "base_uri": "https://localhost:8080/"
        },
        "id": "BBQAJxN0lh8b",
        "outputId": "36096604-1f65-4f87-e0d7-883e200f1de2"
      },
      "outputs": [
        {
          "output_type": "stream",
          "name": "stdout",
          "text": [
            "Python version: 3.11.13\n"
          ]
        }
      ],
      "source": [
        "# Check\n",
        "import sys, subprocess, pkg_resources, platform, datetime\n",
        "print(\"Python version:\", platform.python_version())"
      ]
    },
    {
      "cell_type": "code",
      "source": [
        "!pip install -q duckdb pandas pyarrow"
      ],
      "metadata": {
        "id": "MvWq3nj4na7V"
      },
      "execution_count": 4,
      "outputs": []
    },
    {
      "cell_type": "code",
      "source": [
        "# Import libraries and quick sanity check\n",
        "import duckdb, pandas as pd\n",
        "duckdb.sql(\"SELECT 'DuckDB is ready' AS status\").show()"
      ],
      "metadata": {
        "colab": {
          "base_uri": "https://localhost:8080/"
        },
        "id": "8Lbv_WyHnpW2",
        "outputId": "91626853-4eb4-4a82-a2bd-c3e9bcf53d8b"
      },
      "execution_count": 5,
      "outputs": [
        {
          "output_type": "stream",
          "name": "stdout",
          "text": [
            "┌─────────────────┐\n",
            "│     status      │\n",
            "│     varchar     │\n",
            "├─────────────────┤\n",
            "│ DuckDB is ready │\n",
            "└─────────────────┘\n",
            "\n"
          ]
        }
      ]
    },
    {
      "cell_type": "code",
      "source": [
        "# Mount google drive\n",
        "from google.colab import drive\n",
        "drive.mount('/content/drive')"
      ],
      "metadata": {
        "id": "brLKlvzMnr7z",
        "colab": {
          "base_uri": "https://localhost:8080/"
        },
        "outputId": "47638d3b-9dc1-4de2-8a02-58c24589d86f"
      },
      "execution_count": 6,
      "outputs": [
        {
          "output_type": "stream",
          "name": "stdout",
          "text": [
            "Mounted at /content/drive\n"
          ]
        }
      ]
    },
    {
      "cell_type": "code",
      "source": [
        "# Verify project exists within the folder\n",
        "!ls /content/drive/MyDrive/restaurant-ai-sql-project"
      ],
      "metadata": {
        "id": "bu6tt8kWKh-V",
        "outputId": "70562a80-fb06-473e-8778-4a593f4d7bff",
        "colab": {
          "base_uri": "https://localhost:8080/"
        }
      },
      "execution_count": 7,
      "outputs": [
        {
          "output_type": "stream",
          "name": "stdout",
          "text": [
            "data_raw  outputs\n"
          ]
        }
      ]
    },
    {
      "cell_type": "code",
      "source": [
        "import pathlib\n",
        "\n",
        "# Path to the CSVs placed in Drive\n",
        "DATA_PATH = pathlib.Path('/content/drive/MyDrive/restaurant-ai-sql-project/data_raw')\n",
        "\n",
        "# Read CSVs with pandas\n",
        "menu   = pd.read_csv(DATA_PATH / 'menu_items.csv')\n",
        "orders = pd.read_csv(DATA_PATH / 'order_details.csv')\n",
        "\n",
        "# Register with DuckDB so we can use plain SQL\n",
        "con = duckdb.connect()\n",
        "con.register('menu',   menu)\n",
        "con.register('orders', orders)"
      ],
      "metadata": {
        "id": "npohjX3WKjC7",
        "outputId": "fb29afc6-6d5e-447d-f8d3-64d71ca38492",
        "colab": {
          "base_uri": "https://localhost:8080/"
        }
      },
      "execution_count": 8,
      "outputs": [
        {
          "output_type": "execute_result",
          "data": {
            "text/plain": [
              "<duckdb.duckdb.DuckDBPyConnection at 0x7b9ca7c3d870>"
            ]
          },
          "metadata": {},
          "execution_count": 8
        }
      ]
    },
    {
      "cell_type": "code",
      "source": [
        "con.sql(\"SELECT * FROM menu   LIMIT 3\").show()\n",
        "con.sql(\"SELECT * FROM orders LIMIT 3\").show()"
      ],
      "metadata": {
        "id": "zzhABhq5bzvX",
        "colab": {
          "base_uri": "https://localhost:8080/"
        },
        "outputId": "4f8adada-d717-4d67-813f-2560eee5bc54"
      },
      "execution_count": 9,
      "outputs": [
        {
          "output_type": "stream",
          "name": "stdout",
          "text": [
            "┌──────────────┬──────────────┬──────────┬────────┐\n",
            "│ menu_item_id │  item_name   │ category │ price  │\n",
            "│    int64     │   varchar    │ varchar  │ double │\n",
            "├──────────────┼──────────────┼──────────┼────────┤\n",
            "│          101 │ Hamburger    │ American │  12.95 │\n",
            "│          102 │ Cheeseburger │ American │  13.95 │\n",
            "│          103 │ Hot Dog      │ American │    9.0 │\n",
            "└──────────────┴──────────────┴──────────┴────────┘\n",
            "\n",
            "┌──────────────────┬──────────┬────────────┬─────────────┬─────────┐\n",
            "│ order_details_id │ order_id │ order_date │ order_time  │ item_id │\n",
            "│      int64       │  int64   │  varchar   │   varchar   │ double  │\n",
            "├──────────────────┼──────────┼────────────┼─────────────┼─────────┤\n",
            "│                1 │        1 │ 1/1/23     │ 11:38:36 AM │   109.0 │\n",
            "│                2 │        2 │ 1/1/23     │ 11:57:40 AM │   108.0 │\n",
            "│                3 │        2 │ 1/1/23     │ 11:57:40 AM │   124.0 │\n",
            "└──────────────────┴──────────┴────────────┴─────────────┴─────────┘\n",
            "\n"
          ]
        }
      ]
    },
    {
      "cell_type": "code",
      "source": [
        "# Row count (union -- keeps output tidy)\n",
        "con.sql(\"\"\"\n",
        "    SELECT 'menu'   AS table_name, COUNT(*) AS rows FROM menu\n",
        "    UNION ALL\n",
        "    SELECT 'orders',               COUNT(*)          FROM orders\n",
        "\"\"\").show()"
      ],
      "metadata": {
        "id": "l8RYLGNsv5Zz",
        "colab": {
          "base_uri": "https://localhost:8080/"
        },
        "outputId": "605bd807-4dc2-4b8d-d5c9-039344fb13cd"
      },
      "execution_count": 10,
      "outputs": [
        {
          "output_type": "stream",
          "name": "stdout",
          "text": [
            "┌────────────┬───────┐\n",
            "│ table_name │ rows  │\n",
            "│  varchar   │ int64 │\n",
            "├────────────┼───────┤\n",
            "│ menu       │    32 │\n",
            "│ orders     │ 12234 │\n",
            "└────────────┴───────┘\n",
            "\n"
          ]
        }
      ]
    },
    {
      "cell_type": "code",
      "source": [
        "# Date range check on the orders table\n",
        "con.sql(\"\"\"\n",
        "    SELECT\n",
        "        MIN(order_date) AS first_day,\n",
        "        MAX(order_date) AS last_day\n",
        "    FROM orders\n",
        "\"\"\").show()"
      ],
      "metadata": {
        "id": "ma-TpFCev8CP",
        "colab": {
          "base_uri": "https://localhost:8080/"
        },
        "outputId": "ae0f7d8e-9094-4bc6-bca5-0a8c30241f51"
      },
      "execution_count": 11,
      "outputs": [
        {
          "output_type": "stream",
          "name": "stdout",
          "text": [
            "┌───────────┬──────────┐\n",
            "│ first_day │ last_day │\n",
            "│  varchar  │ varchar  │\n",
            "├───────────┼──────────┤\n",
            "│ 1/1/23    │ 3/9/23   │\n",
            "└───────────┴──────────┘\n",
            "\n"
          ]
        }
      ]
    },
    {
      "cell_type": "code",
      "source": [
        "# Null checks (price & item references)\n",
        "con.sql(\"SELECT COUNT(*) AS missing_prices FROM menu WHERE price IS NULL\").show()\n",
        "con.sql(\"SELECT COUNT(*) AS orphan_items  FROM orders WHERE item_id IS NULL\").show()"
      ],
      "metadata": {
        "id": "y70UhNcVv9tz",
        "colab": {
          "base_uri": "https://localhost:8080/"
        },
        "outputId": "d31e6b33-90b4-4cb5-ede0-3ccb501e9296"
      },
      "execution_count": 12,
      "outputs": [
        {
          "output_type": "stream",
          "name": "stdout",
          "text": [
            "┌────────────────┐\n",
            "│ missing_prices │\n",
            "│     int64      │\n",
            "├────────────────┤\n",
            "│              0 │\n",
            "└────────────────┘\n",
            "\n",
            "┌──────────────┐\n",
            "│ orphan_items │\n",
            "│    int64     │\n",
            "├──────────────┤\n",
            "│          137 │\n",
            "└──────────────┘\n",
            "\n"
          ]
        }
      ]
    },
    {
      "cell_type": "code",
      "source": [
        "# Preview first 3 rows\n",
        "con.sql(\"SELECT * FROM menu   LIMIT 3\").show()\n",
        "con.sql(\"SELECT * FROM orders LIMIT 3\").show()"
      ],
      "metadata": {
        "id": "EvtfXmZFv_RY",
        "colab": {
          "base_uri": "https://localhost:8080/"
        },
        "outputId": "fd921996-692c-4df6-fb58-07ff35300dfb"
      },
      "execution_count": 13,
      "outputs": [
        {
          "output_type": "stream",
          "name": "stdout",
          "text": [
            "┌──────────────┬──────────────┬──────────┬────────┐\n",
            "│ menu_item_id │  item_name   │ category │ price  │\n",
            "│    int64     │   varchar    │ varchar  │ double │\n",
            "├──────────────┼──────────────┼──────────┼────────┤\n",
            "│          101 │ Hamburger    │ American │  12.95 │\n",
            "│          102 │ Cheeseburger │ American │  13.95 │\n",
            "│          103 │ Hot Dog      │ American │    9.0 │\n",
            "└──────────────┴──────────────┴──────────┴────────┘\n",
            "\n",
            "┌──────────────────┬──────────┬────────────┬─────────────┬─────────┐\n",
            "│ order_details_id │ order_id │ order_date │ order_time  │ item_id │\n",
            "│      int64       │  int64   │  varchar   │   varchar   │ double  │\n",
            "├──────────────────┼──────────┼────────────┼─────────────┼─────────┤\n",
            "│                1 │        1 │ 1/1/23     │ 11:38:36 AM │   109.0 │\n",
            "│                2 │        2 │ 1/1/23     │ 11:57:40 AM │   108.0 │\n",
            "│                3 │        2 │ 1/1/23     │ 11:57:40 AM │   124.0 │\n",
            "└──────────────────┴──────────┴────────────┴─────────────┴─────────┘\n",
            "\n"
          ]
        }
      ]
    },
    {
      "cell_type": "code",
      "source": [
        "# Build a CTE that merges 'orders' and 'menu'\n",
        "order_items_cte = \"\"\"\n",
        "WITH order_items AS (\n",
        "    SELECT\n",
        "        o.order_id,\n",
        "\n",
        "        -- Parse 'M/D/YY' or 'MM/DD/YY' safely into a DATE\n",
        "        TRY_STRPTIME(o.order_date, '%m/%d/%y') AS order_date,\n",
        "\n",
        "        m.menu_item_id               AS item_id,\n",
        "        m.item_name,\n",
        "        m.category,\n",
        "        CAST(m.price AS DOUBLE)      AS price\n",
        "    FROM orders AS o\n",
        "    LEFT JOIN menu  AS m\n",
        "           ON o.item_id = m.menu_item_id\n",
        ")\n",
        "\"\"\"\n",
        "# Quick sanity check\n",
        "con.sql(order_items_cte + \"SELECT order_id, order_date, item_name FROM order_items LIMIT 5;\").show()"
      ],
      "metadata": {
        "id": "m17dWzBewENZ",
        "colab": {
          "base_uri": "https://localhost:8080/"
        },
        "outputId": "8247ac54-a310-4733-dd6a-12b456ef4eca"
      },
      "execution_count": 14,
      "outputs": [
        {
          "output_type": "stream",
          "name": "stdout",
          "text": [
            "┌──────────┬─────────────────────┬──────────────────┐\n",
            "│ order_id │     order_date      │    item_name     │\n",
            "│  int64   │      timestamp      │     varchar      │\n",
            "├──────────┼─────────────────────┼──────────────────┤\n",
            "│        1 │ 2023-01-01 00:00:00 │ Korean Beef Bowl │\n",
            "│        2 │ 2023-01-01 00:00:00 │ Tofu Pad Thai    │\n",
            "│        2 │ 2023-01-01 00:00:00 │ Spaghetti        │\n",
            "│        2 │ 2023-01-01 00:00:00 │ Chicken Burrito  │\n",
            "│        2 │ 2023-01-01 00:00:00 │ Mushroom Ravioli │\n",
            "└──────────┴─────────────────────┴──────────────────┘\n",
            "\n"
          ]
        }
      ]
    },
    {
      "cell_type": "code",
      "source": [
        "# Top-10 best-selling items with revenue + rank\n",
        "leaderboard_sql = order_items_cte + \"\"\"\n",
        "SELECT\n",
        "    item_name,\n",
        "    COUNT(*)                     AS num_sold,\n",
        "    ROUND(SUM(price), 2)         AS total_revenue,\n",
        "    RANK() OVER (ORDER BY COUNT(*) DESC) AS sales_rank\n",
        "FROM order_items\n",
        "GROUP BY item_name\n",
        "ORDER BY sales_rank\n",
        "LIMIT 10;\n",
        "\"\"\"\n",
        "con.sql(leaderboard_sql).show()"
      ],
      "metadata": {
        "id": "tnFXMZniOHl0",
        "colab": {
          "base_uri": "https://localhost:8080/"
        },
        "outputId": "b356536d-94df-41a5-9abe-42cd62d50c3a"
      },
      "execution_count": 15,
      "outputs": [
        {
          "output_type": "stream",
          "name": "stdout",
          "text": [
            "┌───────────────────────┬──────────┬───────────────┬────────────┐\n",
            "│       item_name       │ num_sold │ total_revenue │ sales_rank │\n",
            "│        varchar        │  int64   │    double     │   int64    │\n",
            "├───────────────────────┼──────────┼───────────────┼────────────┤\n",
            "│ Hamburger             │      622 │        8054.9 │          1 │\n",
            "│ Edamame               │      620 │        3100.0 │          2 │\n",
            "│ Korean Beef Bowl      │      588 │       10554.6 │          3 │\n",
            "│ Cheeseburger          │      583 │       8132.85 │          4 │\n",
            "│ French Fries          │      571 │        3997.0 │          5 │\n",
            "│ Tofu Pad Thai         │      562 │        8149.0 │          6 │\n",
            "│ Steak Torta           │      489 │       6821.55 │          7 │\n",
            "│ Spaghetti & Meatballs │      470 │        8436.5 │          8 │\n",
            "│ Mac & Cheese          │      463 │        3241.0 │          9 │\n",
            "│ Chips & Salsa         │      461 │        3227.0 │         10 │\n",
            "├───────────────────────┴──────────┴───────────────┴────────────┤\n",
            "│ 10 rows                                             4 columns │\n",
            "└───────────────────────────────────────────────────────────────┘\n",
            "\n"
          ]
        }
      ]
    },
    {
      "cell_type": "code",
      "source": [
        "# Revenue vs. estimated margin (assume 40 % cost of goods)\n",
        "margin_sql = order_items_cte + \"\"\"\n",
        "SELECT\n",
        "    category,\n",
        "    ROUND(SUM(price),        2) AS revenue,\n",
        "    ROUND(SUM(price)*0.40,  2) AS est_food_cost,   -- 40 % COGS\n",
        "    ROUND(SUM(price)*0.60,  2) AS est_margin       -- 60 % margin\n",
        "FROM order_items\n",
        "GROUP BY category\n",
        "ORDER BY est_margin DESC;\n",
        "\"\"\"\n",
        "con.sql(margin_sql).show()"
      ],
      "metadata": {
        "id": "0vbn7_ACOOpJ",
        "colab": {
          "base_uri": "https://localhost:8080/"
        },
        "outputId": "fb96c52a-8899-47f2-fb85-34401b62a048"
      },
      "execution_count": 16,
      "outputs": [
        {
          "output_type": "stream",
          "name": "stdout",
          "text": [
            "┌──────────┬──────────┬───────────────┬────────────┐\n",
            "│ category │ revenue  │ est_food_cost │ est_margin │\n",
            "│ varchar  │  double  │    double     │   double   │\n",
            "├──────────┼──────────┼───────────────┼────────────┤\n",
            "│ Italian  │  49462.7 │      19785.08 │   29677.62 │\n",
            "│ Asian    │ 46720.65 │      18688.26 │   28032.39 │\n",
            "│ Mexican  │  34796.8 │      13918.72 │   20878.08 │\n",
            "│ American │ 28237.75 │       11295.1 │   16942.65 │\n",
            "│ NULL     │     NULL │          NULL │       NULL │\n",
            "└──────────┴──────────┴───────────────┴────────────┘\n",
            "\n"
          ]
        }
      ]
    },
    {
      "cell_type": "code",
      "source": [
        "OUTPUT_PATH = pathlib.Path('/content/drive/MyDrive/restaurant-ai-sql-project/outputs')\n",
        "OUTPUT_PATH.mkdir(parents=True, exist_ok=True)\n",
        "\n",
        "# Full joined transaction table \n",
        "order_items_df = con.sql(order_items_cte + \"SELECT * FROM order_items\").df()\n",
        "order_items_df.to_csv(OUTPUT_PATH / \"order_items.csv\", index=False)\n",
        "\n",
        "# Top-10 leaderboard n",
        "leaderboard_df = con.sql(leaderboard_sql).df()\n",
        "leaderboard_df.to_csv(OUTPUT_PATH / \"top10_leaderboard.csv\", index=False)\n",
        "\n",
        "print(\"CSVs saved to:\", OUTPUT_PATH)\n",
        "print(\"Files:\", list(OUTPUT_PATH.iterdir()))"
      ],
      "metadata": {
        "id": "SsFOeaxoOXlK",
        "colab": {
          "base_uri": "https://localhost:8080/"
        },
        "outputId": "f71f7a06-bcdb-4c3e-a47e-7521ef59942a"
      },
      "execution_count": 17,
      "outputs": [
        {
          "output_type": "stream",
          "name": "stdout",
          "text": [
            "CSVs saved to: /content/drive/MyDrive/restaurant-ai-sql-project/outputs\n",
            "Files: [PosixPath('/content/drive/MyDrive/restaurant-ai-sql-project/outputs/leaderboard.csv'), PosixPath('/content/drive/MyDrive/restaurant-ai-sql-project/outputs/top10_leaderboard.csv'), PosixPath('/content/drive/MyDrive/restaurant-ai-sql-project/outputs/order_items.csv'), PosixPath('/content/drive/MyDrive/restaurant-ai-sql-project/outputs/Restaurant Insights.png')]\n"
          ]
        }
      ]
    },
    {
      "cell_type": "code",
      "source": [
        "!pip install -q scikit-learn joblib"
      ],
      "metadata": {
        "id": "S2yS477tOblR"
      },
      "execution_count": 28,
      "outputs": []
    },
    {
      "cell_type": "code",
      "source": [
        "# SQL features + label (high-spend = total_spend > $100)\n",
        "order_features_sql = order_items_cte + \"\"\"\n",
        "SELECT\n",
        "    order_id,\n",
        "\n",
        "    COUNT(*)                  AS item_count,\n",
        "    SUM(price)                AS total_spend,\n",
        "\n",
        "    -- one-hot style counts for cuisine mix\n",
        "    SUM(CASE WHEN category = 'Italian'  THEN 1 ELSE 0 END) AS italian_cnt,\n",
        "    SUM(CASE WHEN category = 'American' THEN 1 ELSE 0 END) AS american_cnt,\n",
        "    SUM(CASE WHEN category = 'Asian'    THEN 1 ELSE 0 END) AS asian_cnt,\n",
        "\n",
        "    CASE WHEN SUM(price) > 100 THEN 1 ELSE 0 END AS high_spend_flag\n",
        "FROM order_items\n",
        "GROUP BY order_id\n",
        "\"\"\"\n",
        "feats_df = con.sql(order_features_sql).df()\n",
        "feats_df.head()"
      ],
      "metadata": {
        "colab": {
          "base_uri": "https://localhost:8080/",
          "height": 206
        },
        "id": "Dr_IxB1W4S8Y",
        "outputId": "511282e5-9bf4-4434-f771-0f40b7eb8b61"
      },
      "execution_count": 29,
      "outputs": [
        {
          "output_type": "execute_result",
          "data": {
            "text/plain": [
              "   order_id  item_count  total_spend  italian_cnt  american_cnt  asian_cnt  \\\n",
              "0         2           5        64.45          2.0           1.0        1.0   \n",
              "1         5           1        12.95          0.0           0.0        0.0   \n",
              "2         9           9       132.25          4.0           0.0        2.0   \n",
              "3        10           2        22.50          1.0           1.0        0.0   \n",
              "4        11           4        45.85          0.0           3.0        1.0   \n",
              "\n",
              "   high_spend_flag  \n",
              "0                0  \n",
              "1                0  \n",
              "2                1  \n",
              "3                0  \n",
              "4                0  "
            ],
            "text/html": [
              "\n",
              "  <div id=\"df-089ff1a4-e6bc-464e-aab1-c272729725f6\" class=\"colab-df-container\">\n",
              "    <div>\n",
              "<style scoped>\n",
              "    .dataframe tbody tr th:only-of-type {\n",
              "        vertical-align: middle;\n",
              "    }\n",
              "\n",
              "    .dataframe tbody tr th {\n",
              "        vertical-align: top;\n",
              "    }\n",
              "\n",
              "    .dataframe thead th {\n",
              "        text-align: right;\n",
              "    }\n",
              "</style>\n",
              "<table border=\"1\" class=\"dataframe\">\n",
              "  <thead>\n",
              "    <tr style=\"text-align: right;\">\n",
              "      <th></th>\n",
              "      <th>order_id</th>\n",
              "      <th>item_count</th>\n",
              "      <th>total_spend</th>\n",
              "      <th>italian_cnt</th>\n",
              "      <th>american_cnt</th>\n",
              "      <th>asian_cnt</th>\n",
              "      <th>high_spend_flag</th>\n",
              "    </tr>\n",
              "  </thead>\n",
              "  <tbody>\n",
              "    <tr>\n",
              "      <th>0</th>\n",
              "      <td>2</td>\n",
              "      <td>5</td>\n",
              "      <td>64.45</td>\n",
              "      <td>2.0</td>\n",
              "      <td>1.0</td>\n",
              "      <td>1.0</td>\n",
              "      <td>0</td>\n",
              "    </tr>\n",
              "    <tr>\n",
              "      <th>1</th>\n",
              "      <td>5</td>\n",
              "      <td>1</td>\n",
              "      <td>12.95</td>\n",
              "      <td>0.0</td>\n",
              "      <td>0.0</td>\n",
              "      <td>0.0</td>\n",
              "      <td>0</td>\n",
              "    </tr>\n",
              "    <tr>\n",
              "      <th>2</th>\n",
              "      <td>9</td>\n",
              "      <td>9</td>\n",
              "      <td>132.25</td>\n",
              "      <td>4.0</td>\n",
              "      <td>0.0</td>\n",
              "      <td>2.0</td>\n",
              "      <td>1</td>\n",
              "    </tr>\n",
              "    <tr>\n",
              "      <th>3</th>\n",
              "      <td>10</td>\n",
              "      <td>2</td>\n",
              "      <td>22.50</td>\n",
              "      <td>1.0</td>\n",
              "      <td>1.0</td>\n",
              "      <td>0.0</td>\n",
              "      <td>0</td>\n",
              "    </tr>\n",
              "    <tr>\n",
              "      <th>4</th>\n",
              "      <td>11</td>\n",
              "      <td>4</td>\n",
              "      <td>45.85</td>\n",
              "      <td>0.0</td>\n",
              "      <td>3.0</td>\n",
              "      <td>1.0</td>\n",
              "      <td>0</td>\n",
              "    </tr>\n",
              "  </tbody>\n",
              "</table>\n",
              "</div>\n",
              "    <div class=\"colab-df-buttons\">\n",
              "\n",
              "  <div class=\"colab-df-container\">\n",
              "    <button class=\"colab-df-convert\" onclick=\"convertToInteractive('df-089ff1a4-e6bc-464e-aab1-c272729725f6')\"\n",
              "            title=\"Convert this dataframe to an interactive table.\"\n",
              "            style=\"display:none;\">\n",
              "\n",
              "  <svg xmlns=\"http://www.w3.org/2000/svg\" height=\"24px\" viewBox=\"0 -960 960 960\">\n",
              "    <path d=\"M120-120v-720h720v720H120Zm60-500h600v-160H180v160Zm220 220h160v-160H400v160Zm0 220h160v-160H400v160ZM180-400h160v-160H180v160Zm440 0h160v-160H620v160ZM180-180h160v-160H180v160Zm440 0h160v-160H620v160Z\"/>\n",
              "  </svg>\n",
              "    </button>\n",
              "\n",
              "  <style>\n",
              "    .colab-df-container {\n",
              "      display:flex;\n",
              "      gap: 12px;\n",
              "    }\n",
              "\n",
              "    .colab-df-convert {\n",
              "      background-color: #E8F0FE;\n",
              "      border: none;\n",
              "      border-radius: 50%;\n",
              "      cursor: pointer;\n",
              "      display: none;\n",
              "      fill: #1967D2;\n",
              "      height: 32px;\n",
              "      padding: 0 0 0 0;\n",
              "      width: 32px;\n",
              "    }\n",
              "\n",
              "    .colab-df-convert:hover {\n",
              "      background-color: #E2EBFA;\n",
              "      box-shadow: 0px 1px 2px rgba(60, 64, 67, 0.3), 0px 1px 3px 1px rgba(60, 64, 67, 0.15);\n",
              "      fill: #174EA6;\n",
              "    }\n",
              "\n",
              "    .colab-df-buttons div {\n",
              "      margin-bottom: 4px;\n",
              "    }\n",
              "\n",
              "    [theme=dark] .colab-df-convert {\n",
              "      background-color: #3B4455;\n",
              "      fill: #D2E3FC;\n",
              "    }\n",
              "\n",
              "    [theme=dark] .colab-df-convert:hover {\n",
              "      background-color: #434B5C;\n",
              "      box-shadow: 0px 1px 3px 1px rgba(0, 0, 0, 0.15);\n",
              "      filter: drop-shadow(0px 1px 2px rgba(0, 0, 0, 0.3));\n",
              "      fill: #FFFFFF;\n",
              "    }\n",
              "  </style>\n",
              "\n",
              "    <script>\n",
              "      const buttonEl =\n",
              "        document.querySelector('#df-089ff1a4-e6bc-464e-aab1-c272729725f6 button.colab-df-convert');\n",
              "      buttonEl.style.display =\n",
              "        google.colab.kernel.accessAllowed ? 'block' : 'none';\n",
              "\n",
              "      async function convertToInteractive(key) {\n",
              "        const element = document.querySelector('#df-089ff1a4-e6bc-464e-aab1-c272729725f6');\n",
              "        const dataTable =\n",
              "          await google.colab.kernel.invokeFunction('convertToInteractive',\n",
              "                                                    [key], {});\n",
              "        if (!dataTable) return;\n",
              "\n",
              "        const docLinkHtml = 'Like what you see? Visit the ' +\n",
              "          '<a target=\"_blank\" href=https://colab.research.google.com/notebooks/data_table.ipynb>data table notebook</a>'\n",
              "          + ' to learn more about interactive tables.';\n",
              "        element.innerHTML = '';\n",
              "        dataTable['output_type'] = 'display_data';\n",
              "        await google.colab.output.renderOutput(dataTable, element);\n",
              "        const docLink = document.createElement('div');\n",
              "        docLink.innerHTML = docLinkHtml;\n",
              "        element.appendChild(docLink);\n",
              "      }\n",
              "    </script>\n",
              "  </div>\n",
              "\n",
              "\n",
              "    <div id=\"df-f4ec72d2-6716-46c3-b6d0-528956f0cb28\">\n",
              "      <button class=\"colab-df-quickchart\" onclick=\"quickchart('df-f4ec72d2-6716-46c3-b6d0-528956f0cb28')\"\n",
              "                title=\"Suggest charts\"\n",
              "                style=\"display:none;\">\n",
              "\n",
              "<svg xmlns=\"http://www.w3.org/2000/svg\" height=\"24px\"viewBox=\"0 0 24 24\"\n",
              "     width=\"24px\">\n",
              "    <g>\n",
              "        <path d=\"M19 3H5c-1.1 0-2 .9-2 2v14c0 1.1.9 2 2 2h14c1.1 0 2-.9 2-2V5c0-1.1-.9-2-2-2zM9 17H7v-7h2v7zm4 0h-2V7h2v10zm4 0h-2v-4h2v4z\"/>\n",
              "    </g>\n",
              "</svg>\n",
              "      </button>\n",
              "\n",
              "<style>\n",
              "  .colab-df-quickchart {\n",
              "      --bg-color: #E8F0FE;\n",
              "      --fill-color: #1967D2;\n",
              "      --hover-bg-color: #E2EBFA;\n",
              "      --hover-fill-color: #174EA6;\n",
              "      --disabled-fill-color: #AAA;\n",
              "      --disabled-bg-color: #DDD;\n",
              "  }\n",
              "\n",
              "  [theme=dark] .colab-df-quickchart {\n",
              "      --bg-color: #3B4455;\n",
              "      --fill-color: #D2E3FC;\n",
              "      --hover-bg-color: #434B5C;\n",
              "      --hover-fill-color: #FFFFFF;\n",
              "      --disabled-bg-color: #3B4455;\n",
              "      --disabled-fill-color: #666;\n",
              "  }\n",
              "\n",
              "  .colab-df-quickchart {\n",
              "    background-color: var(--bg-color);\n",
              "    border: none;\n",
              "    border-radius: 50%;\n",
              "    cursor: pointer;\n",
              "    display: none;\n",
              "    fill: var(--fill-color);\n",
              "    height: 32px;\n",
              "    padding: 0;\n",
              "    width: 32px;\n",
              "  }\n",
              "\n",
              "  .colab-df-quickchart:hover {\n",
              "    background-color: var(--hover-bg-color);\n",
              "    box-shadow: 0 1px 2px rgba(60, 64, 67, 0.3), 0 1px 3px 1px rgba(60, 64, 67, 0.15);\n",
              "    fill: var(--button-hover-fill-color);\n",
              "  }\n",
              "\n",
              "  .colab-df-quickchart-complete:disabled,\n",
              "  .colab-df-quickchart-complete:disabled:hover {\n",
              "    background-color: var(--disabled-bg-color);\n",
              "    fill: var(--disabled-fill-color);\n",
              "    box-shadow: none;\n",
              "  }\n",
              "\n",
              "  .colab-df-spinner {\n",
              "    border: 2px solid var(--fill-color);\n",
              "    border-color: transparent;\n",
              "    border-bottom-color: var(--fill-color);\n",
              "    animation:\n",
              "      spin 1s steps(1) infinite;\n",
              "  }\n",
              "\n",
              "  @keyframes spin {\n",
              "    0% {\n",
              "      border-color: transparent;\n",
              "      border-bottom-color: var(--fill-color);\n",
              "      border-left-color: var(--fill-color);\n",
              "    }\n",
              "    20% {\n",
              "      border-color: transparent;\n",
              "      border-left-color: var(--fill-color);\n",
              "      border-top-color: var(--fill-color);\n",
              "    }\n",
              "    30% {\n",
              "      border-color: transparent;\n",
              "      border-left-color: var(--fill-color);\n",
              "      border-top-color: var(--fill-color);\n",
              "      border-right-color: var(--fill-color);\n",
              "    }\n",
              "    40% {\n",
              "      border-color: transparent;\n",
              "      border-right-color: var(--fill-color);\n",
              "      border-top-color: var(--fill-color);\n",
              "    }\n",
              "    60% {\n",
              "      border-color: transparent;\n",
              "      border-right-color: var(--fill-color);\n",
              "    }\n",
              "    80% {\n",
              "      border-color: transparent;\n",
              "      border-right-color: var(--fill-color);\n",
              "      border-bottom-color: var(--fill-color);\n",
              "    }\n",
              "    90% {\n",
              "      border-color: transparent;\n",
              "      border-bottom-color: var(--fill-color);\n",
              "    }\n",
              "  }\n",
              "</style>\n",
              "\n",
              "      <script>\n",
              "        async function quickchart(key) {\n",
              "          const quickchartButtonEl =\n",
              "            document.querySelector('#' + key + ' button');\n",
              "          quickchartButtonEl.disabled = true;  // To prevent multiple clicks.\n",
              "          quickchartButtonEl.classList.add('colab-df-spinner');\n",
              "          try {\n",
              "            const charts = await google.colab.kernel.invokeFunction(\n",
              "                'suggestCharts', [key], {});\n",
              "          } catch (error) {\n",
              "            console.error('Error during call to suggestCharts:', error);\n",
              "          }\n",
              "          quickchartButtonEl.classList.remove('colab-df-spinner');\n",
              "          quickchartButtonEl.classList.add('colab-df-quickchart-complete');\n",
              "        }\n",
              "        (() => {\n",
              "          let quickchartButtonEl =\n",
              "            document.querySelector('#df-f4ec72d2-6716-46c3-b6d0-528956f0cb28 button');\n",
              "          quickchartButtonEl.style.display =\n",
              "            google.colab.kernel.accessAllowed ? 'block' : 'none';\n",
              "        })();\n",
              "      </script>\n",
              "    </div>\n",
              "\n",
              "    </div>\n",
              "  </div>\n"
            ],
            "application/vnd.google.colaboratory.intrinsic+json": {
              "type": "dataframe",
              "variable_name": "feats_df",
              "summary": "{\n  \"name\": \"feats_df\",\n  \"rows\": 5370,\n  \"fields\": [\n    {\n      \"column\": \"order_id\",\n      \"properties\": {\n        \"dtype\": \"number\",\n        \"std\": 1550,\n        \"min\": 1,\n        \"max\": 5370,\n        \"num_unique_values\": 5370,\n        \"samples\": [\n          816,\n          1952,\n          1716\n        ],\n        \"semantic_type\": \"\",\n        \"description\": \"\"\n      }\n    },\n    {\n      \"column\": \"item_count\",\n      \"properties\": {\n        \"dtype\": \"number\",\n        \"std\": 1,\n        \"min\": 1,\n        \"max\": 14,\n        \"num_unique_values\": 14,\n        \"samples\": [\n          14,\n          6,\n          5\n        ],\n        \"semantic_type\": \"\",\n        \"description\": \"\"\n      }\n    },\n    {\n      \"column\": \"total_spend\",\n      \"properties\": {\n        \"dtype\": \"number\",\n        \"std\": 22.656907867407327,\n        \"min\": 5.0,\n        \"max\": 192.14999999999998,\n        \"num_unique_values\": 472,\n        \"samples\": [\n          27.95,\n          49.849999999999994,\n          36.45\n        ],\n        \"semantic_type\": \"\",\n        \"description\": \"\"\n      }\n    },\n    {\n      \"column\": \"italian_cnt\",\n      \"properties\": {\n        \"dtype\": \"number\",\n        \"std\": 0.7639702014967675,\n        \"min\": 0.0,\n        \"max\": 8.0,\n        \"num_unique_values\": 8,\n        \"samples\": [\n          0.0,\n          3.0,\n          2.0\n        ],\n        \"semantic_type\": \"\",\n        \"description\": \"\"\n      }\n    },\n    {\n      \"column\": \"american_cnt\",\n      \"properties\": {\n        \"dtype\": \"number\",\n        \"std\": 0.7341867283322294,\n        \"min\": 0.0,\n        \"max\": 6.0,\n        \"num_unique_values\": 7,\n        \"samples\": [\n          1.0,\n          0.0,\n          6.0\n        ],\n        \"semantic_type\": \"\",\n        \"description\": \"\"\n      }\n    },\n    {\n      \"column\": \"asian_cnt\",\n      \"properties\": {\n        \"dtype\": \"number\",\n        \"std\": 0.796919326970989,\n        \"min\": 0.0,\n        \"max\": 8.0,\n        \"num_unique_values\": 8,\n        \"samples\": [\n          0.0,\n          5.0,\n          1.0\n        ],\n        \"semantic_type\": \"\",\n        \"description\": \"\"\n      }\n    },\n    {\n      \"column\": \"high_spend_flag\",\n      \"properties\": {\n        \"dtype\": \"int32\",\n        \"num_unique_values\": 2,\n        \"samples\": [\n          1,\n          0\n        ],\n        \"semantic_type\": \"\",\n        \"description\": \"\"\n      }\n    }\n  ]\n}"
            }
          },
          "metadata": {},
          "execution_count": 29
        }
      ]
    },
    {
      "cell_type": "code",
      "source": [
        "# Train/test split\n",
        "from sklearn.model_selection import train_test_split\n",
        "\n",
        "X = feats_df.drop(columns=['order_id', 'high_spend_flag', 'total_spend'])\n",
        "y = feats_df['high_spend_flag']\n",
        "\n",
        "X_train, X_test, y_train, y_test = train_test_split(\n",
        "    X, y, test_size=0.20, random_state=42, stratify=y\n",
        ")"
      ],
      "metadata": {
        "id": "QhcwmqXT5c_p"
      },
      "execution_count": 38,
      "outputs": []
    },
    {
      "cell_type": "code",
      "source": [
        "from sklearn.pipeline import Pipeline\n",
        "from sklearn.impute import SimpleImputer\n",
        "from sklearn.linear_model import LogisticRegression\n",
        "\n",
        "# Pipeline: 1) replace NaNs with 0  2) fit logistic model\n",
        "clf = Pipeline(steps=[\n",
        "    ('imputer', SimpleImputer(strategy='constant', fill_value=0)),\n",
        "    ('logreg',  LogisticRegression(max_iter=1000))\n",
        "])\n",
        "\n",
        "clf.fit(X_train, y_train)"
      ],
      "metadata": {
        "colab": {
          "base_uri": "https://localhost:8080/",
          "height": 157
        },
        "id": "SiJs58kr5pHG",
        "outputId": "719e3f1b-30a8-44b2-f7c8-3f37796a5ca9"
      },
      "execution_count": 39,
      "outputs": [
        {
          "output_type": "execute_result",
          "data": {
            "text/plain": [
              "Pipeline(steps=[('imputer', SimpleImputer(fill_value=0, strategy='constant')),\n",
              "                ('logreg', LogisticRegression(max_iter=1000))])"
            ],
            "text/html": [
              "<style>#sk-container-id-3 {\n",
              "  /* Definition of color scheme common for light and dark mode */\n",
              "  --sklearn-color-text: #000;\n",
              "  --sklearn-color-text-muted: #666;\n",
              "  --sklearn-color-line: gray;\n",
              "  /* Definition of color scheme for unfitted estimators */\n",
              "  --sklearn-color-unfitted-level-0: #fff5e6;\n",
              "  --sklearn-color-unfitted-level-1: #f6e4d2;\n",
              "  --sklearn-color-unfitted-level-2: #ffe0b3;\n",
              "  --sklearn-color-unfitted-level-3: chocolate;\n",
              "  /* Definition of color scheme for fitted estimators */\n",
              "  --sklearn-color-fitted-level-0: #f0f8ff;\n",
              "  --sklearn-color-fitted-level-1: #d4ebff;\n",
              "  --sklearn-color-fitted-level-2: #b3dbfd;\n",
              "  --sklearn-color-fitted-level-3: cornflowerblue;\n",
              "\n",
              "  /* Specific color for light theme */\n",
              "  --sklearn-color-text-on-default-background: var(--sg-text-color, var(--theme-code-foreground, var(--jp-content-font-color1, black)));\n",
              "  --sklearn-color-background: var(--sg-background-color, var(--theme-background, var(--jp-layout-color0, white)));\n",
              "  --sklearn-color-border-box: var(--sg-text-color, var(--theme-code-foreground, var(--jp-content-font-color1, black)));\n",
              "  --sklearn-color-icon: #696969;\n",
              "\n",
              "  @media (prefers-color-scheme: dark) {\n",
              "    /* Redefinition of color scheme for dark theme */\n",
              "    --sklearn-color-text-on-default-background: var(--sg-text-color, var(--theme-code-foreground, var(--jp-content-font-color1, white)));\n",
              "    --sklearn-color-background: var(--sg-background-color, var(--theme-background, var(--jp-layout-color0, #111)));\n",
              "    --sklearn-color-border-box: var(--sg-text-color, var(--theme-code-foreground, var(--jp-content-font-color1, white)));\n",
              "    --sklearn-color-icon: #878787;\n",
              "  }\n",
              "}\n",
              "\n",
              "#sk-container-id-3 {\n",
              "  color: var(--sklearn-color-text);\n",
              "}\n",
              "\n",
              "#sk-container-id-3 pre {\n",
              "  padding: 0;\n",
              "}\n",
              "\n",
              "#sk-container-id-3 input.sk-hidden--visually {\n",
              "  border: 0;\n",
              "  clip: rect(1px 1px 1px 1px);\n",
              "  clip: rect(1px, 1px, 1px, 1px);\n",
              "  height: 1px;\n",
              "  margin: -1px;\n",
              "  overflow: hidden;\n",
              "  padding: 0;\n",
              "  position: absolute;\n",
              "  width: 1px;\n",
              "}\n",
              "\n",
              "#sk-container-id-3 div.sk-dashed-wrapped {\n",
              "  border: 1px dashed var(--sklearn-color-line);\n",
              "  margin: 0 0.4em 0.5em 0.4em;\n",
              "  box-sizing: border-box;\n",
              "  padding-bottom: 0.4em;\n",
              "  background-color: var(--sklearn-color-background);\n",
              "}\n",
              "\n",
              "#sk-container-id-3 div.sk-container {\n",
              "  /* jupyter's `normalize.less` sets `[hidden] { display: none; }`\n",
              "     but bootstrap.min.css set `[hidden] { display: none !important; }`\n",
              "     so we also need the `!important` here to be able to override the\n",
              "     default hidden behavior on the sphinx rendered scikit-learn.org.\n",
              "     See: https://github.com/scikit-learn/scikit-learn/issues/21755 */\n",
              "  display: inline-block !important;\n",
              "  position: relative;\n",
              "}\n",
              "\n",
              "#sk-container-id-3 div.sk-text-repr-fallback {\n",
              "  display: none;\n",
              "}\n",
              "\n",
              "div.sk-parallel-item,\n",
              "div.sk-serial,\n",
              "div.sk-item {\n",
              "  /* draw centered vertical line to link estimators */\n",
              "  background-image: linear-gradient(var(--sklearn-color-text-on-default-background), var(--sklearn-color-text-on-default-background));\n",
              "  background-size: 2px 100%;\n",
              "  background-repeat: no-repeat;\n",
              "  background-position: center center;\n",
              "}\n",
              "\n",
              "/* Parallel-specific style estimator block */\n",
              "\n",
              "#sk-container-id-3 div.sk-parallel-item::after {\n",
              "  content: \"\";\n",
              "  width: 100%;\n",
              "  border-bottom: 2px solid var(--sklearn-color-text-on-default-background);\n",
              "  flex-grow: 1;\n",
              "}\n",
              "\n",
              "#sk-container-id-3 div.sk-parallel {\n",
              "  display: flex;\n",
              "  align-items: stretch;\n",
              "  justify-content: center;\n",
              "  background-color: var(--sklearn-color-background);\n",
              "  position: relative;\n",
              "}\n",
              "\n",
              "#sk-container-id-3 div.sk-parallel-item {\n",
              "  display: flex;\n",
              "  flex-direction: column;\n",
              "}\n",
              "\n",
              "#sk-container-id-3 div.sk-parallel-item:first-child::after {\n",
              "  align-self: flex-end;\n",
              "  width: 50%;\n",
              "}\n",
              "\n",
              "#sk-container-id-3 div.sk-parallel-item:last-child::after {\n",
              "  align-self: flex-start;\n",
              "  width: 50%;\n",
              "}\n",
              "\n",
              "#sk-container-id-3 div.sk-parallel-item:only-child::after {\n",
              "  width: 0;\n",
              "}\n",
              "\n",
              "/* Serial-specific style estimator block */\n",
              "\n",
              "#sk-container-id-3 div.sk-serial {\n",
              "  display: flex;\n",
              "  flex-direction: column;\n",
              "  align-items: center;\n",
              "  background-color: var(--sklearn-color-background);\n",
              "  padding-right: 1em;\n",
              "  padding-left: 1em;\n",
              "}\n",
              "\n",
              "\n",
              "/* Toggleable style: style used for estimator/Pipeline/ColumnTransformer box that is\n",
              "clickable and can be expanded/collapsed.\n",
              "- Pipeline and ColumnTransformer use this feature and define the default style\n",
              "- Estimators will overwrite some part of the style using the `sk-estimator` class\n",
              "*/\n",
              "\n",
              "/* Pipeline and ColumnTransformer style (default) */\n",
              "\n",
              "#sk-container-id-3 div.sk-toggleable {\n",
              "  /* Default theme specific background. It is overwritten whether we have a\n",
              "  specific estimator or a Pipeline/ColumnTransformer */\n",
              "  background-color: var(--sklearn-color-background);\n",
              "}\n",
              "\n",
              "/* Toggleable label */\n",
              "#sk-container-id-3 label.sk-toggleable__label {\n",
              "  cursor: pointer;\n",
              "  display: flex;\n",
              "  width: 100%;\n",
              "  margin-bottom: 0;\n",
              "  padding: 0.5em;\n",
              "  box-sizing: border-box;\n",
              "  text-align: center;\n",
              "  align-items: start;\n",
              "  justify-content: space-between;\n",
              "  gap: 0.5em;\n",
              "}\n",
              "\n",
              "#sk-container-id-3 label.sk-toggleable__label .caption {\n",
              "  font-size: 0.6rem;\n",
              "  font-weight: lighter;\n",
              "  color: var(--sklearn-color-text-muted);\n",
              "}\n",
              "\n",
              "#sk-container-id-3 label.sk-toggleable__label-arrow:before {\n",
              "  /* Arrow on the left of the label */\n",
              "  content: \"▸\";\n",
              "  float: left;\n",
              "  margin-right: 0.25em;\n",
              "  color: var(--sklearn-color-icon);\n",
              "}\n",
              "\n",
              "#sk-container-id-3 label.sk-toggleable__label-arrow:hover:before {\n",
              "  color: var(--sklearn-color-text);\n",
              "}\n",
              "\n",
              "/* Toggleable content - dropdown */\n",
              "\n",
              "#sk-container-id-3 div.sk-toggleable__content {\n",
              "  max-height: 0;\n",
              "  max-width: 0;\n",
              "  overflow: hidden;\n",
              "  text-align: left;\n",
              "  /* unfitted */\n",
              "  background-color: var(--sklearn-color-unfitted-level-0);\n",
              "}\n",
              "\n",
              "#sk-container-id-3 div.sk-toggleable__content.fitted {\n",
              "  /* fitted */\n",
              "  background-color: var(--sklearn-color-fitted-level-0);\n",
              "}\n",
              "\n",
              "#sk-container-id-3 div.sk-toggleable__content pre {\n",
              "  margin: 0.2em;\n",
              "  border-radius: 0.25em;\n",
              "  color: var(--sklearn-color-text);\n",
              "  /* unfitted */\n",
              "  background-color: var(--sklearn-color-unfitted-level-0);\n",
              "}\n",
              "\n",
              "#sk-container-id-3 div.sk-toggleable__content.fitted pre {\n",
              "  /* unfitted */\n",
              "  background-color: var(--sklearn-color-fitted-level-0);\n",
              "}\n",
              "\n",
              "#sk-container-id-3 input.sk-toggleable__control:checked~div.sk-toggleable__content {\n",
              "  /* Expand drop-down */\n",
              "  max-height: 200px;\n",
              "  max-width: 100%;\n",
              "  overflow: auto;\n",
              "}\n",
              "\n",
              "#sk-container-id-3 input.sk-toggleable__control:checked~label.sk-toggleable__label-arrow:before {\n",
              "  content: \"▾\";\n",
              "}\n",
              "\n",
              "/* Pipeline/ColumnTransformer-specific style */\n",
              "\n",
              "#sk-container-id-3 div.sk-label input.sk-toggleable__control:checked~label.sk-toggleable__label {\n",
              "  color: var(--sklearn-color-text);\n",
              "  background-color: var(--sklearn-color-unfitted-level-2);\n",
              "}\n",
              "\n",
              "#sk-container-id-3 div.sk-label.fitted input.sk-toggleable__control:checked~label.sk-toggleable__label {\n",
              "  background-color: var(--sklearn-color-fitted-level-2);\n",
              "}\n",
              "\n",
              "/* Estimator-specific style */\n",
              "\n",
              "/* Colorize estimator box */\n",
              "#sk-container-id-3 div.sk-estimator input.sk-toggleable__control:checked~label.sk-toggleable__label {\n",
              "  /* unfitted */\n",
              "  background-color: var(--sklearn-color-unfitted-level-2);\n",
              "}\n",
              "\n",
              "#sk-container-id-3 div.sk-estimator.fitted input.sk-toggleable__control:checked~label.sk-toggleable__label {\n",
              "  /* fitted */\n",
              "  background-color: var(--sklearn-color-fitted-level-2);\n",
              "}\n",
              "\n",
              "#sk-container-id-3 div.sk-label label.sk-toggleable__label,\n",
              "#sk-container-id-3 div.sk-label label {\n",
              "  /* The background is the default theme color */\n",
              "  color: var(--sklearn-color-text-on-default-background);\n",
              "}\n",
              "\n",
              "/* On hover, darken the color of the background */\n",
              "#sk-container-id-3 div.sk-label:hover label.sk-toggleable__label {\n",
              "  color: var(--sklearn-color-text);\n",
              "  background-color: var(--sklearn-color-unfitted-level-2);\n",
              "}\n",
              "\n",
              "/* Label box, darken color on hover, fitted */\n",
              "#sk-container-id-3 div.sk-label.fitted:hover label.sk-toggleable__label.fitted {\n",
              "  color: var(--sklearn-color-text);\n",
              "  background-color: var(--sklearn-color-fitted-level-2);\n",
              "}\n",
              "\n",
              "/* Estimator label */\n",
              "\n",
              "#sk-container-id-3 div.sk-label label {\n",
              "  font-family: monospace;\n",
              "  font-weight: bold;\n",
              "  display: inline-block;\n",
              "  line-height: 1.2em;\n",
              "}\n",
              "\n",
              "#sk-container-id-3 div.sk-label-container {\n",
              "  text-align: center;\n",
              "}\n",
              "\n",
              "/* Estimator-specific */\n",
              "#sk-container-id-3 div.sk-estimator {\n",
              "  font-family: monospace;\n",
              "  border: 1px dotted var(--sklearn-color-border-box);\n",
              "  border-radius: 0.25em;\n",
              "  box-sizing: border-box;\n",
              "  margin-bottom: 0.5em;\n",
              "  /* unfitted */\n",
              "  background-color: var(--sklearn-color-unfitted-level-0);\n",
              "}\n",
              "\n",
              "#sk-container-id-3 div.sk-estimator.fitted {\n",
              "  /* fitted */\n",
              "  background-color: var(--sklearn-color-fitted-level-0);\n",
              "}\n",
              "\n",
              "/* on hover */\n",
              "#sk-container-id-3 div.sk-estimator:hover {\n",
              "  /* unfitted */\n",
              "  background-color: var(--sklearn-color-unfitted-level-2);\n",
              "}\n",
              "\n",
              "#sk-container-id-3 div.sk-estimator.fitted:hover {\n",
              "  /* fitted */\n",
              "  background-color: var(--sklearn-color-fitted-level-2);\n",
              "}\n",
              "\n",
              "/* Specification for estimator info (e.g. \"i\" and \"?\") */\n",
              "\n",
              "/* Common style for \"i\" and \"?\" */\n",
              "\n",
              ".sk-estimator-doc-link,\n",
              "a:link.sk-estimator-doc-link,\n",
              "a:visited.sk-estimator-doc-link {\n",
              "  float: right;\n",
              "  font-size: smaller;\n",
              "  line-height: 1em;\n",
              "  font-family: monospace;\n",
              "  background-color: var(--sklearn-color-background);\n",
              "  border-radius: 1em;\n",
              "  height: 1em;\n",
              "  width: 1em;\n",
              "  text-decoration: none !important;\n",
              "  margin-left: 0.5em;\n",
              "  text-align: center;\n",
              "  /* unfitted */\n",
              "  border: var(--sklearn-color-unfitted-level-1) 1pt solid;\n",
              "  color: var(--sklearn-color-unfitted-level-1);\n",
              "}\n",
              "\n",
              ".sk-estimator-doc-link.fitted,\n",
              "a:link.sk-estimator-doc-link.fitted,\n",
              "a:visited.sk-estimator-doc-link.fitted {\n",
              "  /* fitted */\n",
              "  border: var(--sklearn-color-fitted-level-1) 1pt solid;\n",
              "  color: var(--sklearn-color-fitted-level-1);\n",
              "}\n",
              "\n",
              "/* On hover */\n",
              "div.sk-estimator:hover .sk-estimator-doc-link:hover,\n",
              ".sk-estimator-doc-link:hover,\n",
              "div.sk-label-container:hover .sk-estimator-doc-link:hover,\n",
              ".sk-estimator-doc-link:hover {\n",
              "  /* unfitted */\n",
              "  background-color: var(--sklearn-color-unfitted-level-3);\n",
              "  color: var(--sklearn-color-background);\n",
              "  text-decoration: none;\n",
              "}\n",
              "\n",
              "div.sk-estimator.fitted:hover .sk-estimator-doc-link.fitted:hover,\n",
              ".sk-estimator-doc-link.fitted:hover,\n",
              "div.sk-label-container:hover .sk-estimator-doc-link.fitted:hover,\n",
              ".sk-estimator-doc-link.fitted:hover {\n",
              "  /* fitted */\n",
              "  background-color: var(--sklearn-color-fitted-level-3);\n",
              "  color: var(--sklearn-color-background);\n",
              "  text-decoration: none;\n",
              "}\n",
              "\n",
              "/* Span, style for the box shown on hovering the info icon */\n",
              ".sk-estimator-doc-link span {\n",
              "  display: none;\n",
              "  z-index: 9999;\n",
              "  position: relative;\n",
              "  font-weight: normal;\n",
              "  right: .2ex;\n",
              "  padding: .5ex;\n",
              "  margin: .5ex;\n",
              "  width: min-content;\n",
              "  min-width: 20ex;\n",
              "  max-width: 50ex;\n",
              "  color: var(--sklearn-color-text);\n",
              "  box-shadow: 2pt 2pt 4pt #999;\n",
              "  /* unfitted */\n",
              "  background: var(--sklearn-color-unfitted-level-0);\n",
              "  border: .5pt solid var(--sklearn-color-unfitted-level-3);\n",
              "}\n",
              "\n",
              ".sk-estimator-doc-link.fitted span {\n",
              "  /* fitted */\n",
              "  background: var(--sklearn-color-fitted-level-0);\n",
              "  border: var(--sklearn-color-fitted-level-3);\n",
              "}\n",
              "\n",
              ".sk-estimator-doc-link:hover span {\n",
              "  display: block;\n",
              "}\n",
              "\n",
              "/* \"?\"-specific style due to the `<a>` HTML tag */\n",
              "\n",
              "#sk-container-id-3 a.estimator_doc_link {\n",
              "  float: right;\n",
              "  font-size: 1rem;\n",
              "  line-height: 1em;\n",
              "  font-family: monospace;\n",
              "  background-color: var(--sklearn-color-background);\n",
              "  border-radius: 1rem;\n",
              "  height: 1rem;\n",
              "  width: 1rem;\n",
              "  text-decoration: none;\n",
              "  /* unfitted */\n",
              "  color: var(--sklearn-color-unfitted-level-1);\n",
              "  border: var(--sklearn-color-unfitted-level-1) 1pt solid;\n",
              "}\n",
              "\n",
              "#sk-container-id-3 a.estimator_doc_link.fitted {\n",
              "  /* fitted */\n",
              "  border: var(--sklearn-color-fitted-level-1) 1pt solid;\n",
              "  color: var(--sklearn-color-fitted-level-1);\n",
              "}\n",
              "\n",
              "/* On hover */\n",
              "#sk-container-id-3 a.estimator_doc_link:hover {\n",
              "  /* unfitted */\n",
              "  background-color: var(--sklearn-color-unfitted-level-3);\n",
              "  color: var(--sklearn-color-background);\n",
              "  text-decoration: none;\n",
              "}\n",
              "\n",
              "#sk-container-id-3 a.estimator_doc_link.fitted:hover {\n",
              "  /* fitted */\n",
              "  background-color: var(--sklearn-color-fitted-level-3);\n",
              "}\n",
              "</style><div id=\"sk-container-id-3\" class=\"sk-top-container\"><div class=\"sk-text-repr-fallback\"><pre>Pipeline(steps=[(&#x27;imputer&#x27;, SimpleImputer(fill_value=0, strategy=&#x27;constant&#x27;)),\n",
              "                (&#x27;logreg&#x27;, LogisticRegression(max_iter=1000))])</pre><b>In a Jupyter environment, please rerun this cell to show the HTML representation or trust the notebook. <br />On GitHub, the HTML representation is unable to render, please try loading this page with nbviewer.org.</b></div><div class=\"sk-container\" hidden><div class=\"sk-item sk-dashed-wrapped\"><div class=\"sk-label-container\"><div class=\"sk-label fitted sk-toggleable\"><input class=\"sk-toggleable__control sk-hidden--visually\" id=\"sk-estimator-id-7\" type=\"checkbox\" ><label for=\"sk-estimator-id-7\" class=\"sk-toggleable__label fitted sk-toggleable__label-arrow\"><div><div>Pipeline</div></div><div><a class=\"sk-estimator-doc-link fitted\" rel=\"noreferrer\" target=\"_blank\" href=\"https://scikit-learn.org/1.6/modules/generated/sklearn.pipeline.Pipeline.html\">?<span>Documentation for Pipeline</span></a><span class=\"sk-estimator-doc-link fitted\">i<span>Fitted</span></span></div></label><div class=\"sk-toggleable__content fitted\"><pre>Pipeline(steps=[(&#x27;imputer&#x27;, SimpleImputer(fill_value=0, strategy=&#x27;constant&#x27;)),\n",
              "                (&#x27;logreg&#x27;, LogisticRegression(max_iter=1000))])</pre></div> </div></div><div class=\"sk-serial\"><div class=\"sk-item\"><div class=\"sk-estimator fitted sk-toggleable\"><input class=\"sk-toggleable__control sk-hidden--visually\" id=\"sk-estimator-id-8\" type=\"checkbox\" ><label for=\"sk-estimator-id-8\" class=\"sk-toggleable__label fitted sk-toggleable__label-arrow\"><div><div>SimpleImputer</div></div><div><a class=\"sk-estimator-doc-link fitted\" rel=\"noreferrer\" target=\"_blank\" href=\"https://scikit-learn.org/1.6/modules/generated/sklearn.impute.SimpleImputer.html\">?<span>Documentation for SimpleImputer</span></a></div></label><div class=\"sk-toggleable__content fitted\"><pre>SimpleImputer(fill_value=0, strategy=&#x27;constant&#x27;)</pre></div> </div></div><div class=\"sk-item\"><div class=\"sk-estimator fitted sk-toggleable\"><input class=\"sk-toggleable__control sk-hidden--visually\" id=\"sk-estimator-id-9\" type=\"checkbox\" ><label for=\"sk-estimator-id-9\" class=\"sk-toggleable__label fitted sk-toggleable__label-arrow\"><div><div>LogisticRegression</div></div><div><a class=\"sk-estimator-doc-link fitted\" rel=\"noreferrer\" target=\"_blank\" href=\"https://scikit-learn.org/1.6/modules/generated/sklearn.linear_model.LogisticRegression.html\">?<span>Documentation for LogisticRegression</span></a></div></label><div class=\"sk-toggleable__content fitted\"><pre>LogisticRegression(max_iter=1000)</pre></div> </div></div></div></div></div></div>"
            ]
          },
          "metadata": {},
          "execution_count": 39
        }
      ]
    },
    {
      "cell_type": "code",
      "source": [
        "from sklearn.metrics import accuracy_score, confusion_matrix, classification_report\n",
        "\n",
        "y_pred = clf.predict(X_test)\n",
        "\n",
        "print(\"Accuracy: {:.1f}%\".format(accuracy_score(y_test, y_pred)*100))\n",
        "print(\"\\nConfusion matrix:\\n\", confusion_matrix(y_test, y_pred))\n",
        "print(\"\\nClassification report:\\n\", classification_report(y_test, y_pred, digits=2))"
      ],
      "metadata": {
        "colab": {
          "base_uri": "https://localhost:8080/"
        },
        "id": "hZW1G3Wq5xvD",
        "outputId": "1225d729-6380-432b-c3b1-27322eaccaba"
      },
      "execution_count": 44,
      "outputs": [
        {
          "output_type": "stream",
          "name": "stdout",
          "text": [
            "Accuracy: 99.8%\n",
            "\n",
            "Confusion matrix:\n",
            " [[1052    1]\n",
            " [   1   20]]\n",
            "\n",
            "Classification report:\n",
            "               precision    recall  f1-score   support\n",
            "\n",
            "           0       1.00      1.00      1.00      1053\n",
            "           1       0.95      0.95      0.95        21\n",
            "\n",
            "    accuracy                           1.00      1074\n",
            "   macro avg       0.98      0.98      0.98      1074\n",
            "weighted avg       1.00      1.00      1.00      1074\n",
            "\n"
          ]
        }
      ]
    },
    {
      "cell_type": "code",
      "source": [
        "# Save model and metrics\n",
        "import joblib, json, datetime, pathlib\n",
        "\n",
        "OUTPUT_PATH = pathlib.Path('/content/drive/MyDrive/restaurant-ai-sql-project/outputs')\n",
        "OUTPUT_PATH.mkdir(parents=True, exist_ok=True)\n",
        "\n",
        "# 1) model\n",
        "joblib.dump(clf, OUTPUT_PATH / 'high_spend_clf.joblib')\n",
        "\n",
        "# 2) simple metrics json\n",
        "metrics = {\n",
        "    \"accuracy\": accuracy_score(y_test, y_pred),\n",
        "    \"timestamp\": datetime.datetime.utcnow().isoformat()\n",
        "}\n",
        "with open(OUTPUT_PATH / 'model_metrics.json', 'w') as f:\n",
        "    json.dump(metrics, f, indent=2)\n",
        "\n",
        "print(\"Model + metrics saved to\", OUTPUT_PATH)"
      ],
      "metadata": {
        "colab": {
          "base_uri": "https://localhost:8080/"
        },
        "id": "puw31n6Y61MA",
        "outputId": "3f699768-4cbc-44f1-ad44-721a58ba2fba"
      },
      "execution_count": 45,
      "outputs": [
        {
          "output_type": "stream",
          "name": "stdout",
          "text": [
            "Model + metrics saved to /content/drive/MyDrive/restaurant-ai-sql-project/outputs\n"
          ]
        }
      ]
    },
    {
      "cell_type": "code",
      "source": [],
      "metadata": {
        "id": "2wE5yLv966Kl"
      },
      "execution_count": null,
      "outputs": []
    }
  ]
}
